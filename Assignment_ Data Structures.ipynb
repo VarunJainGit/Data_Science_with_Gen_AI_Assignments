{
 "cells": [
  {
   "cell_type": "code",
   "execution_count": 1,
   "id": "736a2237",
   "metadata": {},
   "outputs": [],
   "source": [
    "# Assignment Data Structures"
   ]
  },
  {
   "cell_type": "code",
   "execution_count": null,
   "id": "81b65eeb",
   "metadata": {},
   "outputs": [],
   "source": []
  },
  {
   "cell_type": "code",
   "execution_count": 2,
   "id": "cb51ba76",
   "metadata": {},
   "outputs": [
    {
     "data": {
      "text/plain": [
       "''"
      ]
     },
     "execution_count": 2,
     "metadata": {},
     "output_type": "execute_result"
    }
   ],
   "source": [
    "# Question 1\n",
    "\n",
    "\n",
    "\n",
    "'''\n",
    "\n",
    " If you need a data structure specifically tailored for implementing queues with efficient insertion \n",
    " and deletion operations, thread safety, memory efficiency, and support for bounded lengths, \n",
    " deque from the collections module is often a better choice than using a regular Python list.\n",
    "\n",
    "- Efficient Operations: deque provides efficient insertion and deletion operations at both ends of the queue \n",
    "(append and popleft).\n",
    "\n",
    "- Thread Safety: deque objects provide atomic operations, which means they can be safely accessed and modified by multiple \n",
    "threads without the need for explicit locking mechanisms. This can be crucial in multithreaded applications.\n",
    "\n",
    "- Memory Efficiency: deque objects are optimized for memory usage, especially when handling large queues. \n",
    "\n",
    "- Additional Queue-Like Methods: deque provides additional queue-like methods such as rotate, extendleft, and extend, \n",
    "which are not available in regular Python lists.\n",
    "\n",
    "\n",
    "'''"
   ]
  },
  {
   "cell_type": "code",
   "execution_count": null,
   "id": "12006b71",
   "metadata": {},
   "outputs": [],
   "source": [
    "# Question 2\n",
    "\n",
    "\n",
    "'''\n",
    "\n",
    "Web Browser History\n",
    "\n",
    "When you navigate through web pages in a browser, each page you visit is added to your browsing history. \n",
    "The \"Back\" button allows you to navigate backward through your history,\n",
    "visiting previously viewed pages in the reverse order of when you accessed them.\n",
    "\n",
    "'''"
   ]
  },
  {
   "cell_type": "code",
   "execution_count": 3,
   "id": "72485d14",
   "metadata": {},
   "outputs": [
    {
     "data": {
      "text/plain": [
       "'\\n\\nThe primary advantage of using sets in Python is their ability to efficiently store and manipulate unique elements. \\nSets ensure that each element is unique within the collection, eliminating duplicates automatically. \\n\\n'"
      ]
     },
     "execution_count": 3,
     "metadata": {},
     "output_type": "execute_result"
    }
   ],
   "source": [
    "# Question 3\n",
    "\n",
    "\n",
    "'''\n",
    "\n",
    "The primary advantage of using sets in Python is their ability to efficiently store and manipulate unique elements. \n",
    "Sets ensure that each element is unique within the collection, eliminating duplicates automatically. \n",
    "\n",
    "'''"
   ]
  },
  {
   "cell_type": "code",
   "execution_count": 4,
   "id": "3fe69be5",
   "metadata": {},
   "outputs": [
    {
     "data": {
      "text/plain": [
       "'\\n\\nArrays are a data structure provided by the array module, while lists are a built-in data type.\\nYou might choose to use an array instead of a list for storing numerical data in Python in the following scenarios:\\n\\n- Memory Efficiency: Arrays are more memory-efficient than lists for storing homogeneous numerical data \\n(e.g., integers or floating-point numbers) because arrays store elements of the same type in contiguous memory locations.\\n\\n- Performance: Arrays offer better performance for numerical computations and operations compared to lists, \\nespecially when dealing with large datasets.\\n\\n- Specialized Data Types: Arrays support a limited set of data types (e.g., integers, floating-point numbers) \\ncompared to lists, which can store elements of arbitrary types. If your data consists solely of numerical values, \\nusing arrays allows you to enforce a specific data type.\\n\\n'"
      ]
     },
     "execution_count": 4,
     "metadata": {},
     "output_type": "execute_result"
    }
   ],
   "source": [
    "# Question 4\n",
    "\n",
    "\n",
    "'''\n",
    "\n",
    "Arrays are a data structure provided by the array module, while lists are a built-in data type.\n",
    "You might choose to use an array instead of a list for storing numerical data in Python in the following scenarios:\n",
    "\n",
    "- Memory Efficiency: Arrays are more memory-efficient than lists for storing homogeneous numerical data \n",
    "(e.g., integers or floating-point numbers) because arrays store elements of the same type in contiguous memory locations.\n",
    "\n",
    "- Performance: Arrays offer better performance for numerical computations and operations compared to lists, \n",
    "especially when dealing with large datasets.\n",
    "\n",
    "- Specialized Data Types: Arrays support a limited set of data types (e.g., integers, floating-point numbers) \n",
    "compared to lists, which can store elements of arbitrary types. If your data consists solely of numerical values, \n",
    "using arrays allows you to enforce a specific data type.\n",
    "\n",
    "'''"
   ]
  },
  {
   "cell_type": "code",
   "execution_count": null,
   "id": "783a93b0",
   "metadata": {},
   "outputs": [],
   "source": [
    "# Quesstion 5\n",
    "\n",
    "\n",
    "'''\n",
    "\n",
    "Storage and Access:\n",
    "\n",
    "Lists: Lists are ordered collections of elements, where each element is indexed by its position (starting from 0). \n",
    "Elements can be accessed using integer indices, and the order of elements is maintained.\n",
    "\n",
    "Dictionaries: Dictionaries are unordered collections of key-value pairs, where each element is accessed by its key \n",
    "rather than its position. Keys can be of any immutable type (e.g., strings, numbers, tuples), and each key must be unique \n",
    "within the dictionary.\n",
    "\n",
    "\n",
    "\n",
    "Use Cases:\n",
    "\n",
    "Lists: Lists are suitable for storing collections of elements where the order of elements matters and \n",
    "you need to access elements by their position. They are commonly used for sequences of homogeneous or heterogeneous data.\n",
    "\n",
    "Dictionaries: Dictionaries are ideal for storing collections of data where you need to access elements \n",
    "using a meaningful key. They are commonly used for representing mappings, associations, \n",
    "or relationships between entities, such as mapping names to ages, words to their definitions, \n",
    "or IDs to corresponding objects.\n",
    "\n",
    "\n",
    "'''"
   ]
  }
 ],
 "metadata": {
  "kernelspec": {
   "display_name": "Python 3 (ipykernel)",
   "language": "python",
   "name": "python3"
  },
  "language_info": {
   "codemirror_mode": {
    "name": "ipython",
    "version": 3
   },
   "file_extension": ".py",
   "mimetype": "text/x-python",
   "name": "python",
   "nbconvert_exporter": "python",
   "pygments_lexer": "ipython3",
   "version": "3.9.12"
  }
 },
 "nbformat": 4,
 "nbformat_minor": 5
}
