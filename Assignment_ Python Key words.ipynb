{
 "cells": [
  {
   "cell_type": "code",
   "execution_count": 1,
   "id": "cd17f3ae",
   "metadata": {},
   "outputs": [],
   "source": [
    "# Assignment 3"
   ]
  },
  {
   "cell_type": "code",
   "execution_count": null,
   "id": "e24b80c7",
   "metadata": {},
   "outputs": [],
   "source": []
  },
  {
   "cell_type": "code",
   "execution_count": 6,
   "id": "5178e424",
   "metadata": {},
   "outputs": [],
   "source": [
    "\n",
    "# Question 1 :\n",
    "\n",
    "\n",
    "# Python keywords are predefined reserved words that serve specific purposes within the Python language. \n",
    "# They cannot be used as identifiers (such as variable names or function names) because they already have a predefined meaning. \n",
    "\n",
    "# Below are five Python keywords:\n"
   ]
  },
  {
   "cell_type": "code",
   "execution_count": 7,
   "id": "d72b4ca4",
   "metadata": {},
   "outputs": [
    {
     "name": "stdout",
     "output_type": "stream",
     "text": [
      "x is greater than 5\n"
     ]
    }
   ],
   "source": [
    "# a) if, elif, else: \n",
    "\n",
    "# These keywords are used for conditional statements\n",
    "\n",
    "x = 10\n",
    "if x > 5:\n",
    "    print(\"x is greater than 5\")\n",
    "elif x == 5:\n",
    "    print(\"x is equal to 5\")\n",
    "else:\n",
    "    print(\"x is less than 5\")\n"
   ]
  },
  {
   "cell_type": "code",
   "execution_count": 8,
   "id": "db4b5043",
   "metadata": {},
   "outputs": [
    {
     "name": "stdout",
     "output_type": "stream",
     "text": [
      "apple\n",
      "banana\n",
      "cherry\n"
     ]
    }
   ],
   "source": [
    "# b) for: \n",
    "\n",
    "# The for keyword is used to create loops for iterating over sequences.\n",
    "\n",
    "fruits = [\"apple\", \"banana\", \"cherry\"]\n",
    "for fruit in fruits:\n",
    "    print(fruit)\n"
   ]
  },
  {
   "cell_type": "code",
   "execution_count": 9,
   "id": "993868be",
   "metadata": {},
   "outputs": [
    {
     "name": "stdout",
     "output_type": "stream",
     "text": [
      "Both x and y are positive\n",
      "At least one of x or y is positive\n",
      "x is not equal to y\n"
     ]
    }
   ],
   "source": [
    "# c) and, or, not: \n",
    "\n",
    "# Logical operators used for combining conditional statements.\n",
    "\n",
    "x = 5\n",
    "y = 10\n",
    "if x > 0 and y > 0:\n",
    "    print(\"Both x and y are positive\")\n",
    "\n",
    "if x > 0 or y > 0:\n",
    "    print(\"At least one of x or y is positive\")\n",
    "\n",
    "if not (x == y):\n",
    "    print(\"x is not equal to y\")\n"
   ]
  },
  {
   "cell_type": "code",
   "execution_count": 10,
   "id": "b5f6fb4b",
   "metadata": {},
   "outputs": [
    {
     "name": "stdout",
     "output_type": "stream",
     "text": [
      "Yes, 'banana' is in the list of fruits\n"
     ]
    }
   ],
   "source": [
    "# d) in:\n",
    "\n",
    "# Used to check if a value exists in a sequence\n",
    "\n",
    "fruits = [\"apple\", \"banana\", \"cherry\"]\n",
    "if \"banana\" in fruits:\n",
    "    print(\"Yes, 'banana' is in the list of fruits\")\n"
   ]
  },
  {
   "cell_type": "code",
   "execution_count": 11,
   "id": "eaa31d45",
   "metadata": {},
   "outputs": [
    {
     "name": "stdout",
     "output_type": "stream",
     "text": [
      "x and y have different identities\n"
     ]
    }
   ],
   "source": [
    "# e) is:\n",
    "\n",
    "# Used to compare object identities.\n",
    "\n",
    "x = [1, 2, 3]\n",
    "y = [1, 2, 3]\n",
    "if x is y:\n",
    "    print(\"x and y have the same identity\")\n",
    "else:\n",
    "    print(\"x and y have different identities\")\n"
   ]
  },
  {
   "cell_type": "code",
   "execution_count": null,
   "id": "c5e13d28",
   "metadata": {},
   "outputs": [],
   "source": []
  },
  {
   "cell_type": "code",
   "execution_count": 12,
   "id": "bbe5da7d",
   "metadata": {},
   "outputs": [],
   "source": [
    "# Question 2"
   ]
  },
  {
   "cell_type": "code",
   "execution_count": null,
   "id": "3a7b7ee1",
   "metadata": {},
   "outputs": [],
   "source": [
    "# Identifiers are names given to variables, functions, classes, modules, or any other objects. \n",
    "\n",
    "# Identifiers help in identifying and accessing these entities within the code. "
   ]
  },
  {
   "cell_type": "code",
   "execution_count": 13,
   "id": "bd2758b8",
   "metadata": {},
   "outputs": [
    {
     "ename": "SyntaxError",
     "evalue": "invalid syntax (3330194008.py, line 24)",
     "output_type": "error",
     "traceback": [
      "\u001b[1;36m  Input \u001b[1;32mIn [13]\u001b[1;36m\u001b[0m\n\u001b[1;33m    203variable = 50  # Cannot start with a digit\u001b[0m\n\u001b[1;37m       ^\u001b[0m\n\u001b[1;31mSyntaxError\u001b[0m\u001b[1;31m:\u001b[0m invalid syntax\n"
     ]
    }
   ],
   "source": [
    "'''\n",
    "\n",
    "Allowed Characters: Identifiers can consist of letters (both uppercase and lowercase), digits, and underscore (_). However, they cannot start with a digit.\n",
    "\n",
    "Case Sensitivity: Python identifiers are case-sensitive, meaning uppercase and lowercase letters are treated differently. For example, \"myVariable\" and \"MyVariable\" are considered different identifiers.\n",
    "\n",
    "Reserved Keywords: Identifiers cannot be the same as Python keywords or reserved words. Keywords have special meanings in Python and are used for specific purposes within the language.\n",
    "\n",
    "Length: There is no limit on the length of identifiers in Python, but it's a good practice to keep them meaningful and concise.\n",
    "\n",
    "Can't Start with Digits: Identifiers cannot start with a digit. They must start with a letter or an underscore.\n",
    "\n",
    "Can't Use Special Characters: Special characters such as @, $, and % are not allowed within identifiers.\n",
    "\n",
    "'''\n",
    "\n",
    "# Valid identifiers\n",
    "a_variable = 10\n",
    "AVariable = 20\n",
    "aVariable203 = 30\n",
    "_this_is_valid = 40\n",
    "\n",
    "# Invalid identifiers\n",
    "203variable = 50  # Cannot start with a digit\n",
    "a-variable = 60  # Hyphen is not allowed\n",
    "for = 70  # Reserved keyword cannot be used as an identifier\n"
   ]
  },
  {
   "cell_type": "code",
   "execution_count": null,
   "id": "a4998aa5",
   "metadata": {},
   "outputs": [],
   "source": []
  },
  {
   "cell_type": "code",
   "execution_count": 20,
   "id": "7e5c1aa8",
   "metadata": {},
   "outputs": [
    {
     "data": {
      "text/plain": [
       "'\\n\\nIf a single line is to be used as comment then # can be used \\nOtherwise triple single quotes(\\') or double quotes(\") can be used\\n\\n'"
      ]
     },
     "execution_count": 20,
     "metadata": {},
     "output_type": "execute_result"
    }
   ],
   "source": [
    "# Question 3\n",
    "\n",
    "\n",
    "'''\n",
    "\n",
    "Any text that is not be considered as an inclusive part of the code is included as a comment in python.\n",
    "\n",
    "''' \n",
    "\n",
    "\"\"\"\n",
    "\n",
    "If a single line is to be used as comment then # can be used \n",
    "Otherwise triple single quotes(') or double quotes(\") can be used\n",
    "\n",
    "\"\"\"\n",
    "\n",
    "# All lines in this cell are an example of comments in Python"
   ]
  },
  {
   "cell_type": "code",
   "execution_count": null,
   "id": "7b4f0b4f",
   "metadata": {},
   "outputs": [],
   "source": []
  },
  {
   "cell_type": "code",
   "execution_count": 19,
   "id": "9fca85da",
   "metadata": {},
   "outputs": [
    {
     "ename": "IndentationError",
     "evalue": "expected an indented block (1283271046.py, line 14)",
     "output_type": "error",
     "traceback": [
      "\u001b[1;36m  Input \u001b[1;32mIn [19]\u001b[1;36m\u001b[0m\n\u001b[1;33m    print(\"x is positive\")  #  <-- incorrect identation\u001b[0m\n\u001b[1;37m    ^\u001b[0m\n\u001b[1;31mIndentationError\u001b[0m\u001b[1;31m:\u001b[0m expected an indented block\n"
     ]
    }
   ],
   "source": [
    "# Question 4\n",
    "\n",
    "\"\"\"\n",
    "\n",
    "Identation is required in python because Python does not use ; as end of sentence like other coding languages.\n",
    "Hence, identation in Python gives it a proper readability, definition of start and end of a function properly \n",
    "and easy separation and debugging.\n",
    "\n",
    "\"\"\"\n",
    "\n",
    "# Incorrect indentation\n",
    "x = 5\n",
    "if x > 0:\n",
    "print(\"x is positive\")  #  <-- incorrect identation\n"
   ]
  },
  {
   "cell_type": "code",
   "execution_count": null,
   "id": "bbd7c29c",
   "metadata": {},
   "outputs": [],
   "source": []
  },
  {
   "cell_type": "code",
   "execution_count": 21,
   "id": "4a65a0c6",
   "metadata": {},
   "outputs": [
    {
     "data": {
      "text/plain": [
       "'\\n\\nIf indentation is incorrect in Python, it will result in an IndentationError. \\nPython uses indentation to determine the structure and grouping of code blocks, \\nsuch as loops, conditionals, and function definitions. \\nIncorrect indentation violates the expected structure of the code, leading to syntax errors.\\n\\nFor eg, the same as previous question.\\n\\n'"
      ]
     },
     "execution_count": 21,
     "metadata": {},
     "output_type": "execute_result"
    }
   ],
   "source": [
    "# Question 5\n",
    "\n",
    "\"\"\"\n",
    "\n",
    "If indentation is incorrect in Python, it will result in an IndentationError. \n",
    "Python uses indentation to determine the structure and grouping of code blocks, \n",
    "such as loops, conditionals, and function definitions. \n",
    "Incorrect indentation violates the expected structure of the code, leading to syntax errors.\n",
    "\n",
    "For eg, the same as previous question.\n",
    "\n",
    "\"\"\""
   ]
  },
  {
   "cell_type": "code",
   "execution_count": null,
   "id": "4fe97b29",
   "metadata": {},
   "outputs": [],
   "source": []
  },
  {
   "cell_type": "code",
   "execution_count": 22,
   "id": "de9f6fce",
   "metadata": {},
   "outputs": [],
   "source": [
    "# Question 6\n",
    "\n",
    "'''\n",
    "\n",
    "Expression:\n",
    "\n",
    "- An expression is a combination of values, variables, operators, and function calls that evaluates to a single value.\n",
    "- Expressions are the building blocks of Python code that produce a result.\n",
    "- They can be simple, like a single variable or value, or complex, involving multiple operators and function calls.\n",
    "\n",
    "Below is an example:\n",
    "\n",
    "'''\n",
    "\n",
    "x = 5  # Assignment expression\n",
    "y = 3 * (x + 2)  # Arithmetic expression\n",
    "result = max(10, 20)  # Function call expression\n",
    "\n"
   ]
  },
  {
   "cell_type": "code",
   "execution_count": null,
   "id": "995a1e9e",
   "metadata": {},
   "outputs": [],
   "source": [
    "'''\n",
    "\n",
    "Statement:\n",
    "\n",
    "- A statement is a complete line of code that performs an action. It may contain expressions, \n",
    "but it doesn't necessarily have to.\n",
    "- Statements are instructions that tell Python to do something, such as assignment, loops, conditionals, \n",
    "function definitions, etc.\n",
    "- They represent an entire command or action that Python can execute.\n",
    "\n",
    "Below is an example:\n",
    "\n",
    "'''\n",
    "\n",
    "x = 5  # Assignment statement\n",
    "if x > 0:  # If statement\n",
    "    print(\"x is positive\")  # Print statement\n",
    "for i in range(5):  # For loop statement\n",
    "    print(i)\n"
   ]
  }
 ],
 "metadata": {
  "kernelspec": {
   "display_name": "Python 3 (ipykernel)",
   "language": "python",
   "name": "python3"
  },
  "language_info": {
   "codemirror_mode": {
    "name": "ipython",
    "version": 3
   },
   "file_extension": ".py",
   "mimetype": "text/x-python",
   "name": "python",
   "nbconvert_exporter": "python",
   "pygments_lexer": "ipython3",
   "version": "3.9.12"
  }
 },
 "nbformat": 4,
 "nbformat_minor": 5
}
