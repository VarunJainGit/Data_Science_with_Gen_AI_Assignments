{
 "cells": [
  {
   "cell_type": "code",
   "execution_count": 2,
   "id": "9de4c659",
   "metadata": {},
   "outputs": [],
   "source": [
    "# Assignment 2"
   ]
  },
  {
   "cell_type": "code",
   "execution_count": null,
   "id": "9d5b15c0",
   "metadata": {},
   "outputs": [],
   "source": []
  },
  {
   "cell_type": "code",
   "execution_count": 4,
   "id": "47cee908",
   "metadata": {},
   "outputs": [
    {
     "name": "stdout",
     "output_type": "stream",
     "text": [
      "Enter number 1 : 25.02\n",
      "Enter number 2 : 7.17\n",
      "sum is:  32.19\n",
      "difference is:  17.85\n",
      "product is:  179.39339999999999\n",
      "quotient is:  3.489539748953975\n"
     ]
    }
   ],
   "source": [
    "# Quest 1\n",
    "\n",
    "a= float(input(\"Enter number 1 : \"))\n",
    "b= float(input(\"Enter number 2 : \"))\n",
    "\n",
    "print(\"sum is: \", a+b)\n",
    "print(\"difference is: \", a-b)\n",
    "print(\"product is: \", a*b)\n",
    "print(\"quotient is: \", a/b)"
   ]
  },
  {
   "cell_type": "code",
   "execution_count": 10,
   "id": "39f93c79",
   "metadata": {},
   "outputs": [
    {
     "name": "stdout",
     "output_type": "stream",
     "text": [
      "enter a number to perform assignment operations: 20\n",
      "addition:  25\n",
      "subtraction:  22\n",
      "multiplication:  44\n",
      "division:  11.0\n",
      "modulus:  2.0\n",
      "square: 4.0\n"
     ]
    }
   ],
   "source": [
    "# Quest 2\n",
    "\n",
    "number = int(input(\"enter a number to perform assignment operations: \"))\n",
    "\n",
    "# Perform arithmetic assignment operations\n",
    "number += 5  # number = number + 5\n",
    "print(\"addition: \", number)\n",
    "\n",
    "number -= 3  # number = number - 3\n",
    "print(\"subtraction: \", number)\n",
    "\n",
    "number *= 2  # number = number * 2\n",
    "print(\"multiplication: \", number)\n",
    "\n",
    "number /= 4  # Equivalent to: number = number / 4\n",
    "print(\"division: \", number)\n",
    "\n",
    "number %= 3  # Equivalent to: number = number % 3\n",
    "print(\"modulus: \", number)\n",
    "\n",
    "number **= 2  # Equivalent to: number = number ** 2\n",
    "print(\"square:\", number)"
   ]
  },
  {
   "cell_type": "code",
   "execution_count": 13,
   "id": "716250cc",
   "metadata": {},
   "outputs": [
    {
     "name": "stdout",
     "output_type": "stream",
     "text": [
      "enter 1st number : 20\n",
      "enter 2nd number : 20\n",
      "Number 1 is equal to Number 2\n"
     ]
    }
   ],
   "source": [
    "# Quest 3\n",
    "\n",
    "number1 = int(input(\"enter 1st number : \"))\n",
    "number2 = int(input(\"enter 2nd number : \"))\n",
    "\n",
    "# Compare the numbers\n",
    "if number1 < number2:\n",
    "    print(\"Number 1 is less than Number 2\")\n",
    "elif number1 > number2:\n",
    "    print(\"Number 1 is greater than Number 2\")\n",
    "else:\n",
    "    print(\"Number 1 is equal to Number 2\")\n"
   ]
  },
  {
   "cell_type": "code",
   "execution_count": 17,
   "id": "c48dd671",
   "metadata": {},
   "outputs": [
    {
     "name": "stdout",
     "output_type": "stream",
     "text": [
      "Condition not satisfied\n",
      "At least one condition is true\n",
      "x is greater than 10\n"
     ]
    }
   ],
   "source": [
    "# Quest 4\n",
    "\n",
    "x = 27\n",
    "y = 91\n",
    "z = 42\n",
    "\n",
    "\n",
    "if x < y and y < z:\n",
    "    print(\"x is less than y and y is less than z\")\n",
    "else:\n",
    "    print(\"Condition not satisfied\")\n",
    "\n",
    "    \n",
    "if x < 5 or y > 20:\n",
    "    print(\"At least one condition is true\")\n",
    "else:\n",
    "    print(\"Both conditions are false\")\n",
    "    \n",
    "\n",
    "if not x > 10:\n",
    "    print(\"x is not greater than 10\")\n",
    "else:\n",
    "    print(\"x is greater than 10\")\n"
   ]
  },
  {
   "cell_type": "code",
   "execution_count": 23,
   "id": "80720a0a",
   "metadata": {},
   "outputs": [
    {
     "name": "stdout",
     "output_type": "stream",
     "text": [
      "test1 and test2 refer to different objects\n",
      "test1 and copy refer to the same object\n",
      "test1 and test2 refer to different objects\n",
      "is integer:  True\n",
      "is string:  True\n",
      "is decimal:  True\n"
     ]
    }
   ],
   "source": [
    "# Quest 5\n",
    "\n",
    "# Define two variables\n",
    "test1 = [1, 2, 3]\n",
    "test2 = [1, 2, 3]\n",
    "copy = test1\n",
    "\n",
    "# Check identity using is\n",
    "if test1 is test2:\n",
    "    print(\"test1 and test2 refer to the same object\")\n",
    "else:\n",
    "    print(\"test1 and test2 refer to different objects\")\n",
    "\n",
    "if test1 is copy:\n",
    "    print(\"test1 and copy refer to the same object\")\n",
    "else:\n",
    "    print(\"test1 and copy refer to different objects\")\n",
    "\n",
    "# Check identity using is not\n",
    "if test1 is not test2:\n",
    "    print(\"test1 and test2 refer to different objects\")\n",
    "else:\n",
    "    print(\"test1 and test2 refer to the same object\")\n",
    "\n",
    "    \n",
    "n= 1\n",
    "nn= \"test\"\n",
    "nnn= 2.75\n",
    "\n",
    "print(\"is integer: \", isinstance(n, int))\n",
    "print(\"is string: \", isinstance(nn, str))\n",
    "print(\"is decimal: \", isinstance(nnn, float))\n"
   ]
  },
  {
   "cell_type": "code",
   "execution_count": 24,
   "id": "df139e9f",
   "metadata": {},
   "outputs": [
    {
     "name": "stdout",
     "output_type": "stream",
     "text": [
      "enter 1st number : 20\n",
      "enter 2nd number : 23\n",
      "Bitwise AND: 20\n",
      "Bitwise OR: 23\n",
      "Bitwise XOR: 3\n",
      "Bitwise NOT for num1: -21\n",
      "Bitwise NOT for num2: -24\n",
      "Left shift: 80\n",
      "Right shift: 5\n"
     ]
    }
   ],
   "source": [
    "# Quest 6\n",
    "\n",
    "\n",
    "num1 = int(input(\"enter 1st number : \"))\n",
    "num2 = int(input(\"enter 2nd number : \"))\n",
    "\n",
    "# Bitwise AND\n",
    "result_and = num1 & num2\n",
    "print(\"Bitwise AND:\", result_and)  # Output: 0\n",
    "\n",
    "# Bitwise OR\n",
    "result_or = num1 | num2\n",
    "print(\"Bitwise OR:\", result_or)    # Output: 15\n",
    "\n",
    "# Bitwise XOR\n",
    "result_xor = num1 ^ num2\n",
    "print(\"Bitwise XOR:\", result_xor)  # Output: 15\n",
    "\n",
    "# Bitwise NOT for num1\n",
    "result_not_num1 = ~num1\n",
    "print(\"Bitwise NOT for num1:\", result_not_num1)  # Output: -11\n",
    "\n",
    "# Bitwise NOT for num2\n",
    "result_not_num2 = ~num2\n",
    "print(\"Bitwise NOT for num2:\", result_not_num2)  # Output: -6\n",
    "\n",
    "# Left shift\n",
    "result_left_shift = num1 << 2\n",
    "print(\"Left shift:\", result_left_shift)  # Output: 40\n",
    "\n",
    "# Right shift\n",
    "result_right_shift = num1 >> 2\n",
    "print(\"Right shift:\", result_right_shift)  # Output: 2"
   ]
  },
  {
   "cell_type": "code",
   "execution_count": 30,
   "id": "402a48bf",
   "metadata": {},
   "outputs": [
    {
     "name": "stdout",
     "output_type": "stream",
     "text": [
      "-20\n"
     ]
    }
   ],
   "source": [
    "# Quest 7\n",
    "\n",
    "n=20\n",
    "\n",
    "print(~n+1)\n"
   ]
  },
  {
   "cell_type": "code",
   "execution_count": 33,
   "id": "c5d751bc",
   "metadata": {},
   "outputs": [
    {
     "name": "stdout",
     "output_type": "stream",
     "text": [
      "enter a number : 27\n",
      "Odd\n"
     ]
    }
   ],
   "source": [
    "# Quest 8\n",
    "\n",
    "test_num= int(input(\"enter a number : \"))\n",
    "\n",
    "t_op= \"Even\" if test_num % 2 == 0 else \"Odd\"\n",
    "\n",
    "print(t_op)"
   ]
  },
  {
   "cell_type": "code",
   "execution_count": null,
   "id": "fe90bb27",
   "metadata": {},
   "outputs": [],
   "source": []
  }
 ],
 "metadata": {
  "kernelspec": {
   "display_name": "Python 3 (ipykernel)",
   "language": "python",
   "name": "python3"
  },
  "language_info": {
   "codemirror_mode": {
    "name": "ipython",
    "version": 3
   },
   "file_extension": ".py",
   "mimetype": "text/x-python",
   "name": "python",
   "nbconvert_exporter": "python",
   "pygments_lexer": "ipython3",
   "version": "3.9.12"
  }
 },
 "nbformat": 4,
 "nbformat_minor": 5
}
